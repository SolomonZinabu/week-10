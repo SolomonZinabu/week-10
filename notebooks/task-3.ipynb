{
 "cells": [
  {
   "cell_type": "code",
   "execution_count": null,
   "metadata": {},
   "outputs": [],
   "source": [
    "# task-3.ipynb\n",
    "\n",
    "# Import libraries\n",
    "import pandas as pd\n",
    "import matplotlib.pyplot as plt\n",
    "import ruptures as rpt\n",
    "\n",
    "# Step 1: Load and Preprocess Data\n",
    "data_path = \"../data/BrentOilPrices.csv\"\n",
    "df = pd.read_csv(data_path)\n",
    "\n",
    "# Convert Date to datetime and set as index\n",
    "df['Date'] = pd.to_datetime(df['Date'], infer_datetime_format=True)\n",
    "df.set_index('Date', inplace=True)\n",
    "\n",
    "# Visualize the data\n",
    "plt.figure(figsize=(14, 7))\n",
    "plt.plot(df.index, df['Price'], label='Brent Oil Price')\n",
    "plt.title('Brent Oil Prices Over Time')\n",
    "plt.xlabel('Date')\n",
    "plt.ylabel('Price (USD per Barrel)')\n",
    "plt.legend()\n",
    "plt.show()\n",
    "\n",
    "# Step 2: Change Point Detection\n",
    "# Initialize and fit the change point detection algorithm\n",
    "algo = rpt.Binseg(model=\"l2\").fit(df['Price'].values)\n",
    "change_points = algo.predict(n_bkps=5)  # Detect 5 change points\n",
    "\n",
    "# Step 3: Visualize Change Points\n",
    "plt.figure(figsize=(14, 7))\n",
    "rpt.display(df['Price'].values, change_points)\n",
    "plt.title('Detected Change Points in Brent Oil Prices')\n",
    "plt.xlabel('Index')\n",
    "plt.ylabel('Price (USD per Barrel)')\n",
    "plt.show()\n",
    "\n",
    "# Step 4: Interpretation\n",
    "\"\"\"\n",
    "Interpretation:\n",
    "- The detected change points suggest periods of significant shifts in Brent oil prices.\n",
    "- Further analysis will correlate these change points with historical events (e.g., geopolitical tensions, economic sanctions).\n",
    "\"\"\"\n"
   ]
  }
 ],
 "metadata": {
  "kernelspec": {
   "display_name": "venv",
   "language": "python",
   "name": "python3"
  },
  "language_info": {
   "codemirror_mode": {
    "name": "ipython",
    "version": 3
   },
   "file_extension": ".py",
   "mimetype": "text/x-python",
   "name": "python",
   "nbconvert_exporter": "python",
   "pygments_lexer": "ipython3",
   "version": "3.12.7"
  }
 },
 "nbformat": 4,
 "nbformat_minor": 2
}
